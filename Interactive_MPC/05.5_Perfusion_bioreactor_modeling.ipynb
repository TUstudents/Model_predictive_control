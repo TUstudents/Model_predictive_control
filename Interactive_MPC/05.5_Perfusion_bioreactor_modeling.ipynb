{
  "cells": [
    {
      "cell_type": "markdown",
      "metadata": {},
      "source": [
        "# Notebook 5.5: (Optional) Introduction to Perfusion Bioreactor Modeling & Control Concepts\n",
        "\n",
        "So far in our bioreactor case studies, we've focused on fed-batch operations, where the goal is typically to maximize product at the end of a finite batch. This notebook provides a brief introduction to an alternative and increasingly important mode of operation: **continuous biomanufacturing using perfusion bioreactors**.\n",
        "\n",
        "Perfusion systems aim for prolonged, stable operation at high cell densities, continuously feeding fresh media and harvesting product. This offers potential advantages in productivity and product consistency. However, it also presents unique modeling and control challenges.\n",
        "\n",
        "**Goals of this Notebook:**\n",
        "1. Briefly introduce the concepts of continuous biomanufacturing and perfusion systems.\n",
        "2. Define a simplified ODE model for a perfusion bioreactor, including perfusion and bleed rates.\n",
        "3. Discuss the typical control objectives in perfusion systems (e.g., maintaining steady-state Viable Cell Density - VCD).\n",
        "4. Simulate the open-loop behavior of the perfusion model under different operating conditions.\n",
        "5. Conceptually outline how NMPC could be applied to control a perfusion bioreactor.\n",
        "6. Highlight unique challenges associated with perfusion systems."
      ]
    },
    {
      "cell_type": "markdown",
      "metadata": {},
      "source": [
        "## 1. Importing Libraries"
      ]
    },
    {
      "cell_type": "code",
      "execution_count": 1,
      "metadata": {},
      "outputs": [],
      "source": [
        "import numpy as np\n",
        "import matplotlib.pyplot as plt\n",
        "from scipy.integrate import solve_ivp\n",
        "from ipywidgets import interact, FloatSlider # For interactive plots\n",
        "\n",
        "# Optional: for nicer plots\n",
        "plt.rcParams.update({'font.size': 12, 'figure.figsize': (10, 8)})"
      ]
    },
    {
      "cell_type": "markdown",
      "metadata": {},
      "source": [
        "## 2. Perfusion Bioreactor Systems: An Overview\n",
        "\n",
        "**Continuous Biomanufacturing Benefits:**\n",
        "-   Potentially higher volumetric productivity.\n",
        "-   Improved product consistency due to steady-state operation.\n",
        "-   Smaller facility footprint.\n",
        "-   Easier integration with continuous downstream processing.\n",
        "\n",
        "**Perfusion Principle:**\n",
        "In a perfusion bioreactor, cells are typically retained within the reactor (e.g., using a filter like ATF or TFF), while spent medium containing product and waste products is continuously removed (perfusate). Fresh medium is continuously added to replenish nutrients and maintain volume.\n",
        "\n",
        "**Key Manipulated Variables (Inputs for Control):**\n",
        "-   **Perfusion Rate ($D_p$ or $F_{perfusate}$):** Rate of media exchange (e.g., Reactor Volumes per Day - RVD, or L/hr). This primarily controls the nutrient and waste environment.\n",
        "-   **Bleed Rate ($D_b$ or $F_{bleed}$):** Rate at which a portion of the cell-containing culture is removed. This is the primary means to control Viable Cell Density (VCD) and prevent overgrowth, maintaining cells in a productive state.\n",
        "\n",
        "The total dilution rate of soluble components is $D = D_p + D_b$ (if $F_{in} = F_{perfusate} + F_{bleed}$ and volume is constant)."
      ]
    },
    {
      "cell_type": "markdown",
      "metadata": {},
      "source": [
        "## 3. Simplified Perfusion Bioreactor Model (ODEs)\n",
        "\n",
        "We'll adapt our previous fed-batch model. For simplicity, let's assume constant volume $V$. The feed input $F_{in}$ is now the sum of fresh media to match $F_{perfusate} + F_{bleed}$.\n",
        "Let $D_p = F_{perfusate}/V$ and $D_b = F_{bleed}/V$. Total dilution rate $D = D_p + D_b$.\n",
        "\n",
        "**States:** $[X_v, S, P]^T$ (Volume $V$ is constant).\n",
        "\n",
        "1.  **Viable Cell Density ($X_v$) Balance:** (Assuming perfect cell retention for $D_p$)\n",
        "    $$ \\frac{dX_v}{dt} = (\\mu - \\mu_d) X_v - D_b X_v $$\n",
        "\n",
        "2.  **Substrate ($S$) Balance:**\n",
        "    $$ \\frac{dS}{dt} = -q_S X_v + D (S_{feed} - S) $$\n",
        "    (Note: $D$ is used here as substrate is diluted by total media throughput if $F_{in} = F_{perfusate} + F_{bleed}$ and $S_{feed}$ is concentration in $F_{in}$)\n",
        "    Alternatively, if $F_{in}$ only replaces $F_{perfusate}$: $D_p(S_{feed}-S) - q_S X_v$. We'll use the former definition for $D$.\n",
        "\n",
        "3.  **Product ($P$) Balance:** (Assuming product is not retained by the filter)\n",
        "    $$ \\frac{dP}{dt} = q_P X_v - D P $$\n",
        "\n",
        "**Kinetic Rate Expressions ($\\mu, \\mu_d, q_S, q_P$):** We can use the same kinetic expressions as in Notebook 5.1 (Monod, Luedeking-Piret, etc.)."
      ]
    },
    {
      "cell_type": "code",
      "execution_count": 2,
      "metadata": {},
      "outputs": [
        {
          "ename": "NameError",
          "evalue": "name 'default_params' is not defined",
          "output_type": "error",
          "traceback": [
            "\u001b[31m---------------------------------------------------------------------------\u001b[39m",
            "\u001b[31mNameError\u001b[39m                                 Traceback (most recent call last)",
            "\u001b[36mCell\u001b[39m\u001b[36m \u001b[39m\u001b[32mIn[2]\u001b[39m\u001b[32m, line 39\u001b[39m\n\u001b[32m     36\u001b[39m     \u001b[38;5;28;01mreturn\u001b[39;00m [dXv_dt, dS_dt, dP_dt]\n\u001b[32m     38\u001b[39m \u001b[38;5;66;03m# Define a default set of parameters (can be same as fed-batch)\u001b[39;00m\n\u001b[32m---> \u001b[39m\u001b[32m39\u001b[39m perfusion_params = \u001b[43mdefault_params\u001b[49m.copy()\n\u001b[32m     40\u001b[39m \u001b[38;5;66;03m# perfusion_params['V_reactor'] = 1.0 # L, not explicitly used if Dp, Db are rates (1/hr)\u001b[39;00m\n\u001b[32m     42\u001b[39m nx_perf = \u001b[32m3\u001b[39m \u001b[38;5;66;03m# Xv, S, P\u001b[39;00m\n",
            "\u001b[31mNameError\u001b[39m: name 'default_params' is not defined"
          ]
        }
      ],
      "source": [
        "# Define the Perfusion Bioreactor Model ODE function\n",
        "def perfusion_bioreactor_ode(t, states, params, Dp_val, Db_val):\n",
        "    Xv, S, P = states # Unpack current states (Volume V is constant)\n",
        "    \n",
        "    # Get parameters (same as fed-batch model)\n",
        "    mu_max = params['mu_max']\n",
        "    K_S = params['K_S']\n",
        "    k_d = params['k_d']\n",
        "    k_d_S = params['k_d_S']\n",
        "    K_d_S_coeff = params['K_d_S_coeff']\n",
        "    Y_XS = params['Y_XS']\n",
        "    m_S = params['m_S']\n",
        "    alpha = params['alpha']\n",
        "    beta = params['beta']\n",
        "    Y_PS = params['Y_PS']\n",
        "    S_feed = params['S_feed']\n",
        "    # V_reactor = params['V_reactor'] # Constant volume assumed in rates Dp, Db\n",
        "\n",
        "    # Total dilution rate for soluble components\n",
        "    D_total = Dp_val + Db_val \n",
        "\n",
        "    # --- Kinetic Rate Calculations ---\n",
        "    mu = mu_max * S / (K_S + S + 1e-9)\n",
        "    mu_d_val = k_d + k_d_S * K_d_S_coeff / (K_d_S_coeff + S + 1e-9)\n",
        "    q_P = alpha * mu + beta\n",
        "    if Y_PS > 1e6: q_S = (mu / (Y_XS + 1e-9)) + m_S\n",
        "    else: q_S = (mu / (Y_XS + 1e-9)) + m_S + (q_P / (Y_PS + 1e-9))\n",
        "\n",
        "    # --- ODEs ---\n",
        "    dXv_dt = (mu - mu_d_val) * Xv - Db_val * Xv\n",
        "    # Assuming S_feed is the concentration in the fresh media being perfused.\n",
        "    # The D_total here implies F_in = (Dp+Db)*V, and S_feed is conc in F_in.\n",
        "    dS_dt = -q_S * Xv + D_total * (S_feed - S) \n",
        "    dP_dt = q_P * Xv - D_total * P\n",
        "    \n",
        "    return [dXv_dt, dS_dt, dP_dt]\n",
        "\n",
        "# Define a default set of parameters (can be same as fed-batch)\n",
        "perfusion_params = default_params.copy()\n",
        "# perfusion_params['V_reactor'] = 1.0 # L, not explicitly used if Dp, Db are rates (1/hr)\n",
        "\n",
        "nx_perf = 3 # Xv, S, P"
      ]
    },
    {
      "cell_type": "markdown",
      "metadata": {},
      "source": [
        "## 4. Control Objectives in Perfusion Systems\n",
        "\n",
        "Unlike fed-batch, the primary goal is often to reach and maintain a **productive steady state**:\n",
        "-   **Maintain target VCD ($X_{v,sp}$):** This is usually controlled by adjusting the bleed rate $D_b$. At steady state, $\\mu - \\mu_d = D_b$.\n",
        "-   **Maintain target substrate concentration ($S_{sp}$):** Often controlled by the perfusion rate $D_p$, ensuring nutrients are supplied and waste is removed without over-diluting or starving cells.\n",
        "-   Maximize volumetric productivity ($q_P X_v D_p$ or similar, considering product is in perfusate).\n",
        "-   Ensure consistent product quality."
      ]
    },
    {
      "cell_type": "markdown",
      "metadata": {},
      "source": [
        "## 5. Simulating Open-Loop Perfusion Behavior\n",
        "\n",
        "Let's see how the system behaves with constant $D_p$ and $D_b$ rates."
      ]
    },
    {
      "cell_type": "code",
      "execution_count": null,
      "metadata": {},
      "outputs": [],
      "source": [
        "# Simulation settings\n",
        "t_start_perf = 0\n",
        "t_end_perf = 30*24 # Simulate for 30 days\n",
        "t_eval_perf = np.linspace(t_start_perf, t_end_perf, 500)\n",
        "\n",
        "# Initial conditions for perfusion\n",
        "Xv0_perf = 5.0  # cells/mL or g/L equivalent (higher starting VCD than batch)\n",
        "S0_perf = 2.0   # g/L\n",
        "P0_perf = 0.1   # g/L\n",
        "initial_states_perf = [Xv0_perf, S0_perf, P0_perf]\n",
        "\n",
        "# --- Function to run and plot perfusion simulation ---\n",
        "def run_and_plot_perfusion(Dp_val, Db_val, params, title_prefix=\"Perfusion\"):\n",
        "    sol = solve_ivp(perfusion_bioreactor_ode, \n",
        "                      [t_start_perf, t_end_perf], \n",
        "                      initial_states_perf, \n",
        "                      args=(params, Dp_val, Db_val),\n",
        "                      dense_output=True, \n",
        "                      t_eval=t_eval_perf,\n",
        "                      method='LSODA'\n",
        "                     )\n",
        "    \n",
        "    Xv_sim, S_sim, P_sim = sol.y\n",
        "    t_sim = sol.t\n",
        "    \n",
        "    fig, axs = plt.subplots(3, 1, figsize=(10, 12), sharex=True)\n",
        "    title = f'{title_prefix}: Dp={Dp_val:.3f} (1/hr), Db={Db_val:.4f} (1/hr)'\n",
        "    fig.suptitle(title, fontsize=16)\n",
        "    \n",
        "    axs[0].plot(t_sim/24, Xv_sim, 'b-', label='$X_v$ (g/L)') # Time in days\n",
        "    axs[0].set_ylabel('$X_v$ (g/L)'); axs[0].grid(True); axs[0].legend()\n",
        "\n",
        "    axs[1].plot(t_sim/24, S_sim, 'g-', label='$S_{glc}$ (g/L)')\n",
        "    axs[1].set_ylabel('$S_{glc}$ (g/L)'); axs[1].grid(True); axs[1].legend()\n",
        "    axs[1].set_ylim(bottom=-0.1)\n",
        "\n",
        "    axs[2].plot(t_sim/24, P_sim, 'r-', label='$P_{prod}$ (g/L)')\n",
        "    axs[2].set_ylabel('$P_{prod}$ (g/L)'); axs[2].set_xlabel('Time (days)'); axs[2].grid(True); axs[2].legend()\n",
        "    \n",
        "    plt.tight_layout(rect=[0, 0, 1, 0.95])\n",
        "    plt.show()\n",
        "    \n",
        "    print(f\"Conditions at t={t_sim[-1]/24:.1f} days for {title}:\")\n",
        "    print(f\"  Xv = {Xv_sim[-1]:.3f} g/L\")\n",
        "    print(f\"  S  = {S_sim[-1]:.3f} g/L\")\n",
        "    print(f\"  P  = {P_sim[-1]:.3f} g/L\")"
      ]
    },
    {
      "cell_type": "markdown",
      "metadata": {},
      "source": [
        "#### Simulation 1: Low Bleed, Moderate Perfusion"
      ]
    },
    {
      "cell_type": "code",
      "execution_count": null,
      "metadata": {},
      "outputs": [],
      "source": [
        "# Dp_val: reactor volumes per hour. 1 RVD = 1/24 (1/hr)\n",
        "Dp_test1 = 1.0/24  # 1 RVD (Reactor Volume per Day)\n",
        "Db_test1 = 0.001 # Low bleed rate (1/hr)\n",
        "run_and_plot_perfusion(Dp_test1, Db_test1, perfusion_params)"
      ]
    },
    {
      "cell_type": "markdown",
      "metadata": {},
      "source": [
        "#### Simulation 2: Higher Bleed, Moderate Perfusion\n",
        "\n",
        "Try to achieve a steady state VCD. If $\\mu_{max} \\approx 0.08$ and $\\mu_d \\approx 0.005$, then net growth could be around $0.075$. So $D_b$ should be less than this. Let's target a $\\mu_{net} \\approx 0.02$, so $D_b = 0.02$."
      ]
    },
    {
      "cell_type": "code",
      "execution_count": null,
      "metadata": {},
      "outputs": [],
      "source": [
        "Dp_test2 = 1.5/24  # 1.5 RVD \n",
        "Db_test2 = 0.02   # Higher bleed rate (1/hr) aiming for steady state\n",
        "run_and_plot_perfusion(Dp_test2, Db_test2, perfusion_params)"
      ]
    },
    {
      "cell_type": "markdown",
      "metadata": {},
      "source": [
        "#### Interactive Exploration of Dp and Db"
      ]
    },
    {
      "cell_type": "code",
      "execution_count": null,
      "metadata": {},
      "outputs": [],
      "source": [
        "interact(run_and_plot_perfusion, \n",
        "         Dp_val=FloatSlider(min=0.0, max=4.0/24, step=0.25/24, value=1.0/24, format='.4f', description='Dp (1/hr)'),\n",
        "         Db_val=FloatSlider(min=0.0, max=0.05, step=0.001, value=0.01, format='.4f', description='Db (1/hr)'),\n",
        "         params=fixed(perfusion_params) # Keep params fixed for this interaction\n",
        "        );"
      ]
    },
    {
      "cell_type": "markdown",
      "metadata": {},
      "source": [
        "## 6. Conceptual NMPC for Perfusion Systems\n",
        "\n",
        "An NMPC controller for a perfusion system would typically manipulate $D_p(t)$ and $D_b(t)$ to achieve its objectives.\n",
        "\n",
        "**Example Control Objective: Maintain Target $X_{v,sp}$ and $S_{sp}$**\n",
        "\n",
        "Minimize $J = \\sum_{j=1}^{N_p} \\left( Q_X (X_{v,k+j|k} - X_{v,sp})^2 + Q_S (S_{k+j|k} - S_{sp})^2 \\right) + \\sum_{j=0}^{N_c-1} \\left( R_{Dp} (D_{p,k+j|k})^2 + R_{Db} (D_{b,k+j|k})^2 + S_{Dp} (\\Delta D_{p,k+j|k})^2 + S_{Db} (\\Delta D_{b,k+j|k})^2 \\right)$\n",
        "\n",
        "**Decision Variables for NMPC (over $N_c$ or $N_p$):**\n",
        "- Sequence of future $D_p$ values.\n",
        "- Sequence of future $D_b$ values.\n",
        "\n",
        "**Constraints would include:**\n",
        "- Min/max $D_p, D_b$.\n",
        "- Min/max $\\Delta D_p, \\Delta D_b$.\n",
        "- Min $S$ (to avoid starvation).\n",
        "- Max $X_v$ (if there's an upper limit beyond which filter fouls or productivity drops).\n",
        "- Constraints related to filter pressure (if modeled or correlated to $D_p, X_v$).\n",
        "\n",
        "The NMPC would use the perfusion ODE model for prediction and solve the resulting NLP at each control interval, similar to the fed-batch NMPC setup in CasADi.\n",
        "\n",
        "**State Estimation:** Similar to fed-batch, EKF or MHE would be needed to estimate $X_v, S, P$ from available online (e.g., capacitance, off-gas) and infrequent offline measurements."
      ]
    },
    {
      "cell_type": "markdown",
      "metadata": {},
      "source": [
        "## 7. Unique Challenges and Considerations for Perfusion Control\n",
        "\n",
        "*   **Long-term Stability:** Perfusion runs can last for weeks or months. Model stability, parameter adaptation, and sensor drift become critical.\n",
        "*   **Filter Fouling (for ATF/TFF):** A major operational challenge. The control strategy might need to consider filter health, possibly by adjusting $D_p$ or $X_v$ targets, or by scheduling backwashes.\n",
        "*   **Complex Interactions:** $D_p$ and $D_b$ have coupled effects on cell density, nutrient environment, and waste accumulation.\n",
        "*   **Defining Optimal Steady State:** The 'best' $X_{v,sp}$ and $S_{sp}$ might not be known a priori and could be a target for higher-level economic optimization (EMPC for perfusion).\n",
        "*   **Robustness to Biological Variability:** Cell lines can adapt or change their metabolic behavior over long perfusion runs.\n",
        "\n",
        "Advanced MPC strategies, potentially combined with adaptive modeling and robust techniques, are well-suited to address these complexities."
      ]
    },
    {
      "cell_type": "markdown",
      "metadata": {},
      "source": [
        "## 8. Key Takeaways\n",
        "\n",
        "*   Perfusion bioreactors enable continuous biomanufacturing, aiming for stable, high-density cell cultures.\n",
        "*   Control typically involves manipulating perfusion rate ($D_p$) for nutrient/waste environment and bleed rate ($D_b$) for VCD control.\n",
        "*   The modeling approach is similar to fed-batch but accounts for continuous media exchange and cell bleed while volume is often kept constant.\n",
        "*   NMPC can be a powerful tool for achieving and maintaining desired steady states (e.g., target VCD, substrate levels) in the face of disturbances and constraints.\n",
        "*   Long-term stability, filter management, and adapting to biological variability are key challenges in perfusion operations.\n",
        "\n",
        "This notebook provides a conceptual introduction. A full NMPC implementation for perfusion would follow similar steps to Notebooks 5.2/5.3 using CasADi, but with the perfusion model and different control objectives/inputs. The next part of the series (**Part 6: Data-Driven Modeling for MPC**) will explore how to build models when first-principles understanding is incomplete."
      ]
    }
  ],
  "metadata": {
    "kernelspec": {
      "display_name": ".venv",
      "language": "python",
      "name": "python3"
    },
    "language_info": {
      "codemirror_mode": {
        "name": "ipython",
        "version": 3
      },
      "file_extension": ".py",
      "mimetype": "text/x-python",
      "name": "python",
      "nbconvert_exporter": "python",
      "pygments_lexer": "ipython3",
      "version": "3.12.9"
    },
    "toc": {
      "base_numbering": 1,
      "nav_menu": {},
      "number_sections": true,
      "sideBar": true,
      "skip_h1_title": false,
      "title_cell": "Table of Contents",
      "title_sidebar": "Contents",
      "toc_cell": false,
      "toc_position": {},
      "toc_section_display": true,
      "toc_window_display": false
    }
  },
  "nbformat": 4,
  "nbformat_minor": 5
}
