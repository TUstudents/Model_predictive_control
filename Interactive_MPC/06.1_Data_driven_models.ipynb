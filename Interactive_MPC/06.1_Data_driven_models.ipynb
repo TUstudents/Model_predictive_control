{
  "cells": [
    {
      "cell_type": "markdown",
      "id": "46db390e",
      "metadata": {},
      "source": [
        "# Notebook 6.1: Introduction to Data-Driven Models in MPC – Learning from Experience\n",
        "\n",
        "Welcome to Part 6 of our Interactive MPC series! In the previous parts, particularly the bioreactor case studies, we relied on **first-principles models** (based on known physical, chemical, and biological laws) for our NMPC controllers. However, developing accurate first-principles models can be challenging, time-consuming, or even impossible for highly complex systems or when the underlying mechanisms are poorly understood.\n",
        "\n",
        "This is where **data-driven modeling** comes into play. By leveraging historical or experimentally generated input-output data, we can train machine learning models to learn the system dynamics. These learned models can then serve as the predictive engine within an MPC framework.\n",
        "\n",
        "**Goals of this Notebook:**\n",
        "1.  Understand the motivation for using data-driven models in MPC.\n",
        "2.  Get an overview of the data-driven modeling techniques we will explore in subsequent notebooks:\n",
        "    *   Artificial Neural Networks (ANNs)\n",
        "    *   Physics-Informed Neural Networks (PINNs)\n",
        "    *   Gaussian Processes (GPs)\n",
        "3.  Outline the general workflow for developing and using data-driven models for MPC.\n",
        "4.  Guide you through setting up or verifying the necessary machine learning libraries (e.g., TensorFlow/Keras or PyTorch, GPy/GPflow) in your Python environment.\n",
        "5.  Discuss conceptual examples where data-driven MPC could be beneficial."
      ]
    },
    {
      "cell_type": "markdown",
      "id": "3033392a",
      "metadata": {},
      "source": [
        "## 1. Why Data-Driven Models for MPC?\n",
        "\n",
        "While first-principles models offer deep process insight, their development faces several hurdles:\n",
        "*   **Complexity:** Real-world systems (especially biological ones like bioreactors, or large industrial plants) can have incredibly complex, interacting dynamics.\n",
        "*   **Lack of Knowledge:** The fundamental mechanisms might not be fully understood, or key parameters might be unknown and hard to measure.\n",
        "*   **Time and Effort:** Deriving, implementing, and validating detailed mechanistic models can be a significant engineering effort.\n",
        "*   **Adaptation:** First-principles models might not easily adapt to changes in the process (e.g., new raw materials, equipment wear, biological evolution) without re-derivation or re-parameterization.\n",
        "\n",
        "**Data-driven models offer an alternative when:**\n",
        "*   Sufficient historical or experimental data is available.\n",
        "*   The underlying physics are too complex or unknown.\n",
        "*   A rapid model development cycle is needed.\n",
        "*   The system exhibits behaviors that are difficult to capture with simple mechanistic equations (e.g., subtle correlations, \"soft\" phenomena).\n",
        "\n",
        "By learning directly from data, these models can potentially capture intricate system dynamics without explicit prior knowledge of all governing equations. When integrated into an MPC framework (often called **Learning-based MPC**), they enable predictive control for systems that were previously too challenging to model mechanistically."
      ]
    },
    {
      "cell_type": "markdown",
      "id": "5b013a9a",
      "metadata": {},
      "source": [
        "## 2. Overview of Data-Driven Models to be Explored\n",
        "\n",
        "In the upcoming notebooks (6.2, 6.3, 6.4), we will focus on three prominent data-driven modeling techniques for MPC:\n",
        "\n",
        "1.  **Artificial Neural Networks (ANNs) - Notebook 6.2:**\n",
        "    *   Highly flexible function approximators capable of learning complex nonlinear input-output mappings.\n",
        "    *   Types like Feedforward NNs (FNNs/MLPs) and Recurrent NNs (RNNs, LSTMs, GRUs) can model dynamic systems.\n",
        "    *   **Pros:** Universal approximation capabilities.\n",
        "    *   **Cons:** Can be data-hungry, \"black-box\" nature, prone to overfitting, extrapolation can be unreliable, no inherent uncertainty quantification.\n",
        "\n",
        "2.  **Physics-Informed Neural Networks (PINNs) - Notebook 6.3:**\n",
        "    *   A hybrid approach that embeds known physical laws (ODEs/PDEs) into the training process of an ANN.\n",
        "    *   The ANN learns to satisfy both the data and the physical constraints.\n",
        "    *   **Pros:** Improved generalization from less data, more physically plausible predictions, can aid in parameter discovery.\n",
        "    *   **Cons:** Requires knowledge of the governing equations (even if some parameters are unknown), training can be more complex.\n",
        "\n",
        "3.  **Gaussian Processes (GPs) - Notebook 6.4:**\n",
        "    *   A non-parametric, Bayesian approach that defines a distribution over functions.\n",
        "    *   Learns a mean function and a covariance function (kernel) that describes the similarity between data points.\n",
        "    *   **Pros:** Principled uncertainty quantification (provides predictive mean and variance), good with small datasets, allows incorporation of prior knowledge via kernels.\n",
        "    *   **Cons:** Computationally intensive for large datasets ($O(N^3)$ for standard GPs), choice of kernel can be crucial, can struggle with very high-dimensional inputs.\n",
        "\n",
        "Each of these methods has its strengths and weaknesses, making them suitable for different types of problems and data availability."
      ]
    },
    {
      "cell_type": "markdown",
      "id": "303042f7",
      "metadata": {},
      "source": [
        "## 3. General Workflow for Data-Driven MPC\n",
        "\n",
        "Regardless of the specific data-driven modeling technique chosen, the general workflow for developing and using it in MPC typically involves these steps:\n",
        "\n",
        "1.  **Data Collection & Preprocessing:**\n",
        "    *   Gather representative input-output data from the system (e.g., $u(t), y(t)$ or $x_k, u_k \n",
        "ightarrow x_{k+1}$). This data should cover the expected operating range and be sufficiently exciting.\n",
        "    *   Clean the data (remove outliers, handle missing values).\n",
        "    *   Normalize or scale the data.\n",
        "    *   Split into training, validation, and test sets.\n",
        "\n",
        "2.  **Model Structure Selection & Training:**\n",
        "    *   Choose an appropriate model type (ANN, PINN, GP) and its specific architecture (e.g., number of layers/neurons for ANN, kernel type for GP).\n",
        "    *   Train the model using the training dataset to learn the system dynamics (e.g., by minimizing a loss function that compares model predictions to actual data, and for PINNs, also includes physics residuals).\n",
        "    *   Use the validation set to tune hyperparameters and prevent overfitting.\n",
        "\n",
        "3.  **Model Validation:**\n",
        "    *   Evaluate the trained model's performance on the unseen test set.\n",
        "    *   Assess its ability to predict multi-step ahead (simulation capability), not just one-step ahead.\n",
        "    *   Check for physical plausibility where possible.\n",
        "\n",
        "4.  **Integration into MPC Framework:**\n",
        "    *   Use the trained data-driven model as the predictive engine within an NMPC controller.\n",
        "    *   This typically involves formulating an NLP where the model $f_{DDM}(x_k, u_k)$ is called repeatedly for prediction.\n",
        "    *   Gradients of the data-driven model with respect to inputs $u_k$ (and potentially states $x_k$) are often needed by the NLP solver. This is where Automatic Differentiation (AD) capabilities of ML libraries become essential.\n",
        "\n",
        "5.  **Closed-Loop Simulation & Testing:**\n",
        "    *   Simulate the MPC controller with the learned model controlling a (simulated or real) plant.\n",
        "    *   Evaluate performance, robustness, and constraint handling.\n",
        "\n",
        "6.  **(Optional) Online Adaptation/Learning:**\n",
        "    *   For some systems, the data-driven model might be updated or re-trained online as new data becomes available."
      ]
    },
    {
      "cell_type": "markdown",
      "id": "61d2c57f",
      "metadata": {},
      "source": [
        "## 4. Setting Up Machine Learning Libraries\n",
        "\n",
        "For the upcoming notebooks, we will need specific machine learning libraries. We already installed PyTorch in Notebook 0.0. Let's ensure it's correctly configured and also discuss other potential libraries.\n",
        "\n",
        "Make sure your virtual environment from Notebook 0.0 (e.g., `.venv`) is activated before running installation commands."
      ]
    },
    {
      "cell_type": "markdown",
      "id": "eddf7fbc",
      "metadata": {},
      "source": [
        "### 4.1 PyTorch (Already Installed)\n",
        "\n",
        "We installed PyTorch in Notebook 0.0. It will be used for ANN and potentially PINN examples due to its strong support for automatic differentiation (Autograd) and dynamic computation graphs.\n",
        "\n",
        "Let's verify it again."
      ]
    },
    {
      "cell_type": "code",
      "execution_count": null,
      "id": "910e0db8",
      "metadata": {},
      "outputs": [],
      "source": [
        "import torch\n",
        "print(f\"PyTorch version: {torch.__version__}\")\n",
        "if torch.cuda.is_available():\n",
        "    print(f\"PyTorch CUDA is available. Device: {torch.cuda.get_device_name(0)}\")\n",
        "else:\n",
        "    print(\"PyTorch CUDA not available, will use CPU.\")"
      ]
    },
    {
      "cell_type": "markdown",
      "id": "e4cb7c6f",
      "metadata": {},
      "source": [
        "### 4.2 TensorFlow with Keras (Alternative for ANNs/PINNs)\n",
        "\n",
        "TensorFlow is another major deep learning framework. Keras is a high-level API that can run on top of TensorFlow (and other backends).\n",
        "\n",
        "If you prefer to use TensorFlow/Keras, you can install it:\n",
        "```bash\n",
        "# Make sure .venv is activated\n",
        "uv pip install tensorflow # For CPU\n",
        "# For GPU support with TensorFlow, installation is more involved and system-dependent.\n",
        "# Refer to: https://www.tensorflow.org/install/pip\n",
        "```\n",
        "Our examples will primarily use PyTorch for consistency, but the concepts are transferable."
      ]
    },
    {
      "cell_type": "markdown",
      "id": "5a5090e6",
      "metadata": {},
      "source": [
        "### 4.3 Libraries for Gaussian Processes (GPs)\n",
        "\n",
        "For Notebook 6.4 on GP-MPC, we'll need a library for Gaussian Processes. Popular choices include:\n",
        "\n",
        "*   **GPy:** A well-established GP framework in Python built on NumPy/SciPy.\n",
        "*   **GPflow:** A GP library built on TensorFlow, allowing for more complex models and leveraging TensorFlow's AD and GPU capabilities.\n",
        "*   **Scikit-learn:** Includes a basic `GaussianProcessRegressor` which can be good for simple cases.\n",
        "\n",
        "Let's install GPy and GPflow for flexibility:\n",
        "```bash\n",
        "# Make sure .venv is activated\n",
        "uv pip install gpy gpflow scikit-learn\n",
        "```"
      ]
    },
    {
      "cell_type": "code",
      "execution_count": null,
      "id": "cee380bd",
      "metadata": {},
      "outputs": [],
      "source": [
        "# Verify GP library installations (optional check)\n",
        "try:\n",
        "    import GPy\n",
        "    print(f\"GPy version: {GPy.__version__}\")\n",
        "except ImportError:\n",
        "    print(\"GPy not found or installation issue.\")\n",
        "\n",
        "try:\n",
        "    import gpflow\n",
        "    print(f\"GPflow version: {gpflow.__version__}\")\n",
        "except ImportError:\n",
        "    print(\"GPflow not found or installation issue.\")\n",
        "\n",
        "import sklearn\n",
        "print(f\"Scikit-learn version: {sklearn.__version__}\")"
      ]
    },
    {
      "cell_type": "markdown",
      "id": "5186f312",
      "metadata": {},
      "source": [
        "## 5. Conceptual Examples: Where Data-Driven MPC Shines\n",
        "\n",
        "*   **Complex Chemical Reactions:** If reaction kinetics are unknown or involve many intermediate species, an ANN or GP could learn the input (temperature, catalyst concentration) to output (product yield, impurity levels) relationship for use in MPC.\n",
        "*   **Biological Systems (Beyond our simplified bioreactor):**\n",
        "    *   Modeling subtle metabolic shifts in response to environmental cues that are hard to capture with fixed kinetic parameters.\n",
        "    *   Predicting the impact of raw material variability (e.g., different lots of media components) on cell growth or product quality, if features of the raw materials can be used as inputs to the data-driven model.\n",
        "    *   *Our Bioreactor Example:* If the $q_P$ (specific productivity) in our bioreactor model showed complex, time-varying behavior not well described by simple Luedeking-Piret, we might try to learn $q_P = f_{ANN}(X_v, S, L_{lac}, \\text{time})$ from past batch data.\n",
        "*   **Manufacturing Processes with Human-in-the-Loop or Unmodeled Wear:** Learning how operator adjustments or machine degradation (not easily modeled mechanistically) affect process outputs.\n",
        "*   **Systems with Dominant Unmeasured Disturbances:** If the effect of unmeasured disturbances can be learned from past data (e.g., by correlating deviations from a nominal model with other measurable signals), a data-driven model might capture these disturbance dynamics for better rejection by MPC.\n",
        "\n",
        "The key is that the MPC still performs its optimization over a future horizon, but its \"crystal ball\" (the prediction model) is now a learned function rather than one derived purely from first principles."
      ]
    },
    {
      "cell_type": "markdown",
      "id": "7a08eddc",
      "metadata": {},
      "source": [
        "## 6. Key Takeaways\n",
        "\n",
        "*   Data-driven models provide a powerful alternative or complement to first-principles models for MPC when mechanistic understanding is limited or system complexity is high.\n",
        "*   Techniques like ANNs, PINNs, and GPs each offer unique strengths for learning system dynamics from data.\n",
        "*   The general workflow involves data collection, model training, validation, and integration into the MPC's prediction step.\n",
        "*   Leveraging appropriate machine learning libraries (like PyTorch, TensorFlow, GPy, GPflow) along with CasADi (for integrating with NLP solvers) is crucial for implementing data-driven MPC.\n",
        "\n",
        "In the next notebook (**Notebook 6.2: MPC with Artificial Neural Network (ANN) Models**), we will dive into our first hands-on example of building an ANN model for a dynamic system and using it within an NMPC controller."
      ]
    }
  ],
  "metadata": {
    "kernelspec": {
      "display_name": "Python 3 (ipykernel)",
      "language": "python",
      "name": "python3"
    },
    "language_info": {
      "codemirror_mode": {
        "name": "ipython",
        "version": 3
      },
      "file_extension": ".py",
      "mimetype": "text/x-python",
      "name": "python",
      "nbconvert_exporter": "python",
      "pygments_lexer": "ipython3",
      "version": "3.12.x"
    },
    "toc": {
      "base_numbering": 1,
      "nav_menu": {},
      "number_sections": true,
      "sideBar": true,
      "skip_h1_title": false,
      "title_cell": "Table of Contents",
      "title_sidebar": "Contents",
      "toc_cell": false,
      "toc_position": {},
      "toc_section_display": true,
      "toc_window_display": false
    }
  },
  "nbformat": 4,
  "nbformat_minor": 5
}
