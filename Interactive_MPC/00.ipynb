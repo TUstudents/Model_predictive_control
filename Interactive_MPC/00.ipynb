{
  "cells": [
    {
      "cell_type": "markdown",
      "id": "95ed9752",
      "metadata": {},
      "source": [
        "# Notebook 0.0: Welcome to Interactive MPC & Python Setup\n",
        "\n",
        "Welcome to the **Interactive Model Predictive Control (MPC)** notebook series! This series is designed to guide you from the fundamental concepts of MPC to advanced applications, with a hands-on, code-driven approach. We'll be exploring classical examples and culminating in case studies focused on bioreactor control.\n",
        "\n",
        "**Our primary tool will be Python**, leveraging its powerful libraries for scientific computing, optimization, and machine learning.\n",
        "\n",
        "**Goals of this Notebook (0.0):**\n",
        "1. Introduce the notebook series.\n",
        "2. Guide you through setting up your Python environment using `uv` (a fast Python package installer and resolver) with Python 3.12.\n",
        "3. Install the core libraries we'll need for the initial parts of the series: `numpy`, `scipy`, `matplotlib`, `jupyterlab` (or `notebook`), and `pytorch`.\n",
        "4. Perform a simple check to ensure your environment is ready."
      ]
    },
    {
      "cell_type": "markdown",
      "id": "6e58325e",
      "metadata": {},
      "source": [
        "## 1. Why `uv` for Package Management?\n",
        "\n",
        "Traditionally, Python developers have used `pip` for installing packages and `venv` (or `conda`) for managing virtual environments. While effective, these tools can sometimes be slow, especially when resolving complex dependencies.\n",
        "\n",
        "`uv` is a relatively new and extremely fast Python package installer and resolver, written in Rust. It aims to be a drop-in replacement for `pip` and `pip-tools` workflows and significantly speeds up environment creation and package installation.\n",
        "\n",
        "**Key Benefits of `uv`:**\n",
        "*   **Speed:** `uv` is often an order of magnitude faster than `pip` + `venv` for creating environments and installing packages, especially those with many dependencies.\n",
        "*   **Efficient Caching:** It has a global cache, reducing redundant downloads.\n",
        "*   **Modern Resolver:** Uses a state-of-the-art dependency resolver.\n",
        "*   **Compatibility:** Aims for compatibility with `pip`'s command-line interface and `requirements.txt` files.\n",
        "\n",
        "For this series, using `uv` will help ensure a quick and consistent setup experience."
      ]
    },
    {
      "cell_type": "markdown",
      "id": "1ced0d8d",
      "metadata": {},
      "source": [
        "## 2. Setting Up Your Python 3.12 Environment with `uv`\n",
        "\n",
        "Follow these steps in your terminal or command prompt."
      ]
    },
    {
      "cell_type": "markdown",
      "id": "4e35ffec",
      "metadata": {},
      "source": [
        "### Step 2.1: Install Python 3.12\n",
        "\n",
        "If you don't already have Python 3.12 installed, download it from the official Python website: [python.org/downloads/](https://www.python.org/downloads/). Make sure to select a version that is 3.12.x.\n",
        "\n",
        "During installation (especially on Windows), ensure that Python is added to your system's PATH environment variable."
      ]
    },
    {
      "cell_type": "markdown",
      "id": "6c56f358",
      "metadata": {},
      "source": [
        "### Step 2.2: Install `uv`\n",
        "\n",
        "`uv` can be installed using various methods. The recommended way is often via `curl` or `pipx`.\n",
        "\n",
        "**Using `curl` (Linux/macOS):**\n",
        "```bash\n",
        "curl -LsSf https://astral.sh/uv/install.sh | sh\n",
        "```\n",
        "\n",
        "**Using PowerShell (Windows):**\n",
        "```powershell\n",
        "irm https://astral.sh/uv/install.ps1 | iex\n",
        "```\n",
        "\n",
        "**Using `pipx` (if you have `pipx` installed):**\n",
        "```bash\n",
        "pipx install uv\n",
        "```\n",
        "\n",
        "**Using `pip` (globally, less recommended for `uv` itself but possible):**\n",
        "```bash\n",
        "pip install uv\n",
        "```\n",
        "\n",
        "After installation, close and reopen your terminal, then verify the installation:\n",
        "```bash\n",
        "uv --version\n",
        "```\n",
        "You should see the installed `uv` version."
      ]
    },
    {
      "cell_type": "markdown",
      "id": "965e66c2",
      "metadata": {},
      "source": [
        "### Step 2.3: Create a Virtual Environment using `uv`\n",
        "\n",
        "It's best practice to create a dedicated virtual environment for each project to isolate dependencies.\n",
        "\n",
        "1.  Navigate to the directory where you want to create your project (e.g., where you'll store these notebooks).\n",
        "    ```bash\n",
        "    mkdir interactive_mpc_project\n",
        "    cd interactive_mpc_project\n",
        "    ```\n",
        "2.  Create a virtual environment named `.venv` (a common convention) targeting Python 3.12:\n",
        "    ```bash\n",
        "    uv venv .venv --python 3.12\n",
        "    ```\n",
        "    (If you only have one Python 3.12 installed and it's in your PATH, you might be able to omit `--python 3.12`, but explicitly stating it is safer.)\n",
        "\n",
        "3.  Activate the virtual environment:\n",
        "    *   **Linux/macOS (bash/zsh):**\n",
        "        ```bash\n",
        "        source .venv/bin/activate\n",
        "        ```\n",
        "    *   **Windows (Command Prompt):**\n",
        "        ```cmd\n",
        "        .venv\\Scripts\\activate.bat\n",
        "        ```\n",
        "    *   **Windows (PowerShell):**\n",
        "        ```powershell\n",
        "        .venv\\Scripts\\Activate.ps1\n",
        "        ```\n",
        "    Your terminal prompt should now indicate that you are in the `.venv` environment (e.g., `(.venv) user@host:...$`)."
      ]
    },
    {
      "cell_type": "markdown",
      "id": "cfc4c32b",
      "metadata": {},
      "source": [
        "## 3. Install Core Libraries\n",
        "\n",
        "With the virtual environment activated, we can now install the necessary libraries using `uv pip install`."
      ]
    },
    {
      "cell_type": "markdown",
      "id": "2c7b30aa",
      "metadata": {},
      "source": [
        "### Step 3.1: Install NumPy, SciPy, Matplotlib, and Jupyter\n",
        "\n",
        "These are fundamental for numerical work, scientific computing, plotting, and running the notebooks.\n",
        "\n",
        "```bash\n",
        "# Make sure your .venv is activated before running this!\n",
        "uv pip install numpy scipy matplotlib jupyterlab  # or use 'notebook' instead of 'jupyterlab'\n",
        "```\n",
        "`jupyterlab` provides a more feature-rich environment than the classic `notebook`. Choose whichever you prefer."
      ]
    },
    {
      "cell_type": "markdown",
      "id": "4a40fac3",
      "metadata": {},
      "source": [
        "### Step 3.2: Install PyTorch\n",
        "\n",
        "PyTorch will be used for later notebooks involving Neural Networks and PINNs. It's good to install it early. Visit the official PyTorch website ([pytorch.org/get-started/locally/](https://pytorch.org/get-started/locally/)) to get the correct installation command for your system (OS, package manager - select Pip, CUDA version if you have an NVIDIA GPU and want GPU support, otherwise select CPU).\n",
        "\n",
        "For example, a common command for CPU-only on Linux/Windows might be:\n",
        "```bash\n",
        "# Make sure your .venv is activated!\n",
        "# This is an EXAMPLE command, get the LATEST from pytorch.org\n",
        "uv pip install torch torchvision torchaudio\n",
        "```\n",
        "Or if you need a specific CUDA version (e.g., CUDA 12.1):\n",
        "```bash\n",
        "# EXAMPLE for CUDA 12.1, get LATEST from pytorch.org\n",
        "uv pip install torch torchvision torchaudio --index-url https://download.pytorch.org/whl/cu121\n",
        "```\n",
        "**Important:** Always refer to the official PyTorch website for the most up-to-date and system-specific installation command, then adapt it for `uv pip install`."
      ]
    },
    {
      "cell_type": "markdown",
      "id": "1b05bb34",
      "metadata": {},
      "source": [
        "### Step 3.3: (Optional but Recommended) Create a `requirements.txt`\n",
        "\n",
        "Once you have installed your base packages, it's good practice to freeze your environment into a `requirements.txt` file. This allows you or others to easily recreate the environment later.\n",
        "\n",
        "```bash\n",
        "# Make sure your .venv is activated!\n",
        "uv pip freeze > requirements.txt\n",
        "```\n",
        "Later, if you need to recreate this environment, you could do:\n",
        "```bash\n",
        "uv venv .new_venv --python 3.12\n",
        "source .new_venv/bin/activate  # or equivalent for your OS\n",
        "uv pip install -r requirements.txt\n",
        "```"
      ]
    },
    {
      "cell_type": "markdown",
      "id": "8a3783a1",
      "metadata": {},
      "source": [
        "## 4. Verify Your Setup & \"Hello, MPC World!\"\n",
        "\n",
        "Let's run some simple Python code in a Jupyter Notebook cell to verify that the core libraries are installed and working."
      ]
    },
    {
      "cell_type": "markdown",
      "id": "6bca9c00",
      "metadata": {},
      "source": [
        "### Step 4.1: Launch JupyterLab (or Jupyter Notebook)\n",
        "\n",
        "With your virtual environment still activated, navigate to your project directory (`interactive_mpc_project`) in the terminal and run:\n",
        "```bash\n",
        "jupyter lab\n",
        "```\n",
        "Or for the classic notebook interface:\n",
        "```bash\n",
        "jupyter notebook\n",
        "```\n",
        "This should open a new tab in your web browser."
      ]
    },
    {
      "cell_type": "markdown",
      "id": "26f136f7",
      "metadata": {},
      "source": [
        "### Step 4.2: Create a New Notebook and Run Test Code\n",
        "\n",
        "1.  In JupyterLab/Notebook, create a new Python 3 notebook (it should automatically use the kernel from your `.venv` environment if launched from an activated terminal).\n",
        "2.  Copy and paste the following code into a cell and run it (e.g., by pressing Shift+Enter)."
      ]
    },
    {
      "cell_type": "code",
      "execution_count": 3,
      "id": "81744da3",
      "metadata": {},
      "outputs": [
        {
          "name": "stdout",
          "output_type": "stream",
          "text": [
            "NumPy version: 1.26.4\n",
            "SciPy version: 1.15.2\n",
            "PyTorch version: 2.2.1\n",
            "\n",
            "PyTorch tensor x:\n",
            "tensor([[0.4397, 0.8223, 0.1864],\n",
            "        [0.2213, 0.7695, 0.1566]])\n",
            "\n",
            "PyTorch CUDA is available! Device: NVIDIA GeForce RTX 2080 SUPER\n",
            "Tensor on CUDA: tensor([[0.4397, 0.8223, 0.1864],\n",
            "        [0.2213, 0.7695, 0.1566]], device='cuda:0')\n"
          ]
        },
        {
          "data": {
            "image/png": "[encoded data removed]",
            "text/plain": [
              "<Figure size 600x400 with 1 Axes>"
            ]
          },
          "metadata": {},
          "output_type": "display_data"
        },
        {
          "name": "stdout",
          "output_type": "stream",
          "text": [
            "\n",
            "---\n",
            "Environment setup seems successful if you see version numbers and a plot!\n",
            "\n",
            "Conceptual 'Hello, MPC World!':\n",
            "Imagine we want to keep a system_state at a setpoint=5.\n",
            "Current state: 3, Setpoint: 5, Error: 2, Control Action: 1.0\n",
            "MPC will do this much more intelligently, by predicting the future and optimizing!\n"
          ]
        }
      ],
      "source": [
        "import numpy as np\n",
        "import scipy\n",
        "import matplotlib.pyplot as plt\n",
        "import torch\n",
        "\n",
        "print(f\"NumPy version: {np.__version__}\")\n",
        "print(f\"SciPy version: {scipy.__version__}\")\n",
        "print(f\"PyTorch version: {torch.__version__}\")\n",
        "\n",
        "# Test PyTorch tensor creation\n",
        "x = torch.rand(2, 3)\n",
        "print(\"\\nPyTorch tensor x:\")\n",
        "print(x)\n",
        "if torch.cuda.is_available():\n",
        "    print(\"\\nPyTorch CUDA is available! Device:\", torch.cuda.get_device_name(0))\n",
        "    x_cuda = x.cuda()\n",
        "    print(\"Tensor on CUDA:\", x_cuda)\n",
        "else:\n",
        "    print(\"\\nPyTorch CUDA not available, running on CPU.\")\n",
        "\n",
        "# Simple Matplotlib plot\n",
        "x_vals = np.linspace(0, 2 * np.pi, 100)\n",
        "y_vals = np.sin(x_vals)\n",
        "plt.figure(figsize=(6,4))\n",
        "plt.plot(x_vals, y_vals)\n",
        "plt.title(\"Hello, Matplotlib!\")\n",
        "plt.xlabel(\"x\")\n",
        "plt.ylabel(\"sin(x)\")\n",
        "plt.grid(True)\n",
        "plt.show()\n",
        "\n",
        "print(\"\\n---\")\n",
        "print(\"Environment setup seems successful if you see version numbers and a plot!\")\n",
        "print(\"\\nConceptual 'Hello, MPC World!':\")\n",
        "print(\"Imagine we want to keep a system_state at a setpoint=5.\")\n",
        "system_state = 3\n",
        "setpoint = 5\n",
        "error = setpoint - system_state\n",
        "control_action = 0.5 * error  # A very simple proportional control\n",
        "print(f\"Current state: {system_state}, Setpoint: {setpoint}, Error: {error}, Control Action: {control_action}\")\n",
        "print(\"MPC will do this much more intelligently, by predicting the future and optimizing!\")"
      ]
    },
    {
      "cell_type": "markdown",
      "id": "c28ba8a6",
      "metadata": {},
      "source": [
        "## 5. Next Steps\n",
        "\n",
        "If all the above steps worked without significant errors, your environment is ready for the subsequent notebooks in this series!\n",
        "\n",
        "In the next notebook (**Notebook 1.1: Discrete-Time Linear Systems & Prediction**), we will start diving into the core concepts of MPC by modeling and predicting the behavior of simple linear systems."
      ]
    },
    {
      "cell_type": "markdown",
      "id": "559a396c",
      "metadata": {},
      "source": [
        "--- \n",
        "**Troubleshooting Tips:**\n",
        "*   **`uv: command not found`**: Ensure `uv` was installed correctly and its location is in your system's PATH. Try closing and reopening your terminal.\n",
        "*   **Module Not Found Errors in Jupyter:** Make sure you launched JupyterLab/Notebook *from the terminal where your `.venv` virtual environment is activated*. This ensures Jupyter uses the Python kernel and packages from your isolated environment. If you have multiple Python installations, you might need to explicitly install an ipykernel for your virtual environment: `uv pip install ipykernel` then `python -m ipykernel install --user --name=interactive_mpc_venv --display-name \"Python (interactive_mpc_venv)\"` and select this kernel in Jupyter.\n",
        "*   **PyTorch CUDA Issues:** If you have an NVIDIA GPU but PyTorch reports CUDA not available, double-check that you installed the PyTorch version compiled for your specific CUDA toolkit version. Ensure your NVIDIA drivers are up to date.\n",
        "*   **Permissions Issues (Linux/macOS):** You might need to use `sudo` for global installations (like `uv` via some methods, though `curl ... | sh` usually installs to user directory). For `uv venv` and `uv pip install` within an activated environment, `sudo` should *not* be needed."
      ]
    }
  ],
  "metadata": {
    "kernelspec": {
      "display_name": "torch2_2",
      "language": "python",
      "name": "python3"
    },
    "language_info": {
      "codemirror_mode": {
        "name": "ipython",
        "version": 3
      },
      "file_extension": ".py",
      "mimetype": "text/x-python",
      "name": "python",
      "nbconvert_exporter": "python",
      "pygments_lexer": "ipython3",
      "version": "3.11.6"
    },
    "toc": {
      "base_numbering": 1,
      "nav_menu": {},
      "number_sections": true,
      "sideBar": true,
      "skip_h1_title": false,
      "title_cell": "Table of Contents",
      "title_sidebar": "Contents",
      "toc_cell": false,
      "toc_position": {},
      "toc_section_display": true,
      "toc_window_display": false
    }
  },
  "nbformat": 4,
  "nbformat_minor": 5
}
